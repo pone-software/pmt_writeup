{
  "cells": [
    {
      "cell_type": "raw",
      "metadata": {},
      "source": [
        "---\n",
        "title: \"P-ONE PMT Properties & Simulation\"\n",
        "execute: \n",
        "  cache: true\n",
        "---"
      ],
      "id": "c8e38dbb"
    },
    {
      "cell_type": "markdown",
      "metadata": {},
      "source": [
        "# PMT Simulation\n",
        "\n",
        "## Simulation Code\n",
        "\n",
        "The PMT simulation is implemented in the [PMTSimulation.jl](https://github.com/PLEnuM-group/PMTSimulation.jl) julia package.\n"
      ],
      "id": "06de00ed"
    },
    {
      "cell_type": "code",
      "metadata": {},
      "source": [
        "#| echo: false\n",
        "#| output: false\n",
        "using PMTSimulation\n",
        "using CairoMakie\n",
        "using Distributions\n",
        "using Random\n",
        "using StaticArrays\n",
        "using DSP\n",
        "using Profile\n",
        "using DataFrames\n",
        "import Pipe: @pipe\n",
        "using PoissonRandom\n",
        "using Format\n",
        "using Base.Iterators\n",
        "using StatsBase\n",
        "\n",
        "fwhm = 6.0\n",
        "gumbel_scale = gumbel_width_from_fwhm(6)\n",
        "gumbel_loc = 10\n",
        "\n",
        "\n",
        "\n",
        "pmt_config = PMTConfig(\n",
        "    st=ExponTruncNormalSPE(expon_rate=1.0, norm_sigma=0.3, norm_mu=1.0, trunc_low=0.0, peak_to_valley=3.1),\n",
        "    pm=PDFPulseTemplate(\n",
        "        dist=Truncated(Gumbel(0, gumbel_scale) + gumbel_loc, 0, 30),\n",
        "        amplitude=7.0 # mV\n",
        "    ),\n",
        "    #snr_db=22.92,\n",
        "    snr_db=30.0,\n",
        "    sampling_freq=2.0,\n",
        "    unf_pulse_res=0.1,\n",
        "    adc_freq=0.2,\n",
        "    adc_bits=12,\n",
        "    adc_dyn_range=(0.0, 1000.0), #mV\n",
        "    lp_cutoff=0.125,\n",
        "    tt_mean=25, # TT mean\n",
        "    tt_fwhm=1.5 # TT FWHM\n",
        ")\n",
        "pmt_config_high_sampl = PMTConfig(\n",
        "    st=ExponTruncNormalSPE(expon_rate=1.0, norm_sigma=0.3, norm_mu=1.0, trunc_low=0.0, peak_to_valley=3.1),\n",
        "    pm=PDFPulseTemplate(\n",
        "        dist=Truncated(Gumbel(0, gumbel_scale) + gumbel_loc, 0, 30),\n",
        "        amplitude=7.0 # mV\n",
        "    ),\n",
        "    snr_db=30.0,\n",
        "    sampling_freq=2.0,\n",
        "    unf_pulse_res=0.1,\n",
        "    adc_freq=0.25,\n",
        "    adc_bits=12,\n",
        "    adc_dyn_range=(0.0, 1000.0), #mV\n",
        "    lp_cutoff=0.125,\n",
        "    tt_mean=25, # TT mean\n",
        "    tt_fwhm=1.5 # TT FWHM\n",
        ")\n",
        "\n",
        "\n",
        "spe_d = make_spe_dist(pmt_config.spe_template)"
      ],
      "id": "7dea0fab",
      "execution_count": null,
      "outputs": []
    },
    {
      "cell_type": "markdown",
      "metadata": {},
      "source": [
        "## Pulse Shape\n",
        "The PMT pulse shape is modelled by a gumbel distribution:\n",
        "$$\n",
        "p(t) = \\frac{1}{b} \\exp \\left (- \\frac{(x-a)}{b} - e^{-\\frac{(x-a)}{b}} \\right )\n",
        "$$\n",
        "with parameters:"
      ],
      "id": "565f942e"
    },
    {
      "cell_type": "code",
      "metadata": {},
      "source": [
        "#| echo: false\n",
        "println(format(\"a={:.2f}, b={:.2f}, FWHM={:.1f}ns\", gumbel_loc, gumbel_scale, fwhm))"
      ],
      "id": "e2c4663d",
      "execution_count": null,
      "outputs": []
    },
    {
      "cell_type": "code",
      "metadata": {},
      "source": [
        "#| label: fig-pulseshape\n",
        "#| fig-cap: 'Pulse shape of unfiltered (blue) and filtered (125MHz LPF, yellow)'\n",
        "#| echo: false\n",
        "fig, ax, l = lines(-10:0.1:50, x -> evaluate_pulse_template(pmt_config.pulse_model, 0.0, x),\n",
        "    axis=(; ylabel=\"Amplitude (mV)\", xlabel=\"Time (ns)\", title=\"Pulse template\"), label=\"Unfiltered\")\n",
        "lines!(ax, -10:0.1:50, x -> evaluate_pulse_template(pmt_config.pulse_model_filt, 0.0, x), label=\"Filtered (125Mhz LPF)\")\n",
        "axislegend(ax)\n",
        "fig"
      ],
      "id": "fig-pulseshape",
      "execution_count": null,
      "outputs": []
    },
    {
      "cell_type": "markdown",
      "metadata": {},
      "source": [
        "@fig-pulseshape shows the pulse shape and the filtered pulse after applying a 125Mhz low pass filter (LPF). The (unshifted) Gumbel distribution has a non-zero contribution for $x<0$, thus the distribution is shifted by an arbitrary location parameter. This shift is later compensated in the transit time.\n",
        "\n",
        "## Transit Time\n",
        "\n",
        "\n",
        "## SPE Distribution\n",
        "The SPE distribution is modelled as a mixture of a truncated normal distribution and an exponential distribution:\n",
        "$$ p(q) = a \\cdot \\frac{1}{\\sqrt{2\\pi\\sigma^2}} \\exp \\left ( -\\frac{(q-\\mu)^2}{\\sigma^2} \\right )  + (1-a)\\cdot \\frac{1}{\\theta}\\exp \\left( - \\frac{q}{\\theta}\\right)$$"
      ],
      "id": "20b9614a"
    },
    {
      "cell_type": "code",
      "metadata": {},
      "source": [
        "#| label: fig-spedist\n",
        "#| fig-cap: SPE Distribution\n",
        "lines(0:0.01:5, x -> pdf(spe_d, x),\n",
        "    axis=(; title=\"SPE Distribution\", xlabel=\"Charge (PE)\", ylabel=\"PDF\"))"
      ],
      "id": "fig-spedist",
      "execution_count": null,
      "outputs": []
    },
    {
      "cell_type": "markdown",
      "metadata": {},
      "source": [
        "## PMT Pulses\n",
        "The PMT pulse amplitude (in units of PE) is drawn from the SPE distribution:\n"
      ],
      "id": "04bc2657"
    },
    {
      "cell_type": "code",
      "metadata": {},
      "source": [
        "#| label: fig-spedist-sampl\n",
        "#| fig-cap: Sampled SPE Distribution\n",
        "charges = rand(spe_d, 1000)\n",
        "hist(charges, axis=(; xlabel=\"Charge (PE)\", ylabel=\"Counts\"))"
      ],
      "id": "fig-spedist-sampl",
      "execution_count": null,
      "outputs": []
    },
    {
      "cell_type": "markdown",
      "metadata": {},
      "source": [
        "## Waveforms\n",
        "### Pulse Series\n",
        "Pulse series are a collection of pulses at timestamps $t_1, \\ldots, t_n$ with charges $q_1, \\ldots, q_n$. Evaluating the pulse series corresponds to the analog output signal of the PMT:\n"
      ],
      "id": "38ee0218"
    },
    {
      "cell_type": "code",
      "metadata": {},
      "source": [
        "#| label: fig-ps-example\n",
        "#| fig-cap: 'PMT signal (black) for three pulses (colored) at times 0ns, 5ns and 10ns with charges 1PE, 5PE and 1PE'\n",
        "pulse_series = PulseSeries([0, 5, 10], [1, 5, 1], pmt_config.pulse_model)\n",
        "\n",
        "eval_grid = -5:0.05:25\n",
        "eval_ps = evaluate_pulse_series(eval_grid, pulse_series)\n",
        "\n",
        "fig, ax = lines(eval_grid, eval_ps, axis=(; xlabel=\"Time (ns)\", ylabel=\"Amplitude (mV)\"))\n",
        "for (t, q) in pulse_series\n",
        "    lines!(ax, eval_grid, x -> q * evaluate_pulse_template(pmt_config.pulse_model, t, x))\n",
        "end\n",
        "fig"
      ],
      "id": "fig-ps-example",
      "execution_count": null,
      "outputs": []
    },
    {
      "cell_type": "markdown",
      "metadata": {},
      "source": [
        "### Raw Waveforms\n",
        "Raw waveforms are created by evaluating the pulse series with a given sampling frequency and adding gaussian white noise on top:"
      ],
      "id": "d30b1bc8"
    },
    {
      "cell_type": "code",
      "metadata": {},
      "source": [
        "#| label: fig-wf-example\n",
        "#| fig-cap: 'Raw Waveform for three pulses at times 0ns, 5ns and 10ns with charges 1PE, 5PE and 1PE'\n",
        "\n",
        "waveform = Waveform(pulse_series, pmt_config.sampling_freq, pmt_config.noise_amp)\n",
        "\n",
        "lines(waveform.timestamps, waveform.values, axis=(; xlabel=\"Time (ns)\", ylabel=\"Amplitude (mV)\"))"
      ],
      "id": "fig-wf-example",
      "execution_count": null,
      "outputs": []
    },
    {
      "cell_type": "markdown",
      "metadata": {},
      "source": [
        "### Waveform digitization\n",
        "Waveforms are digitized in multiple steps:\n",
        "\n",
        "1. Applying a filter (125MHz LPF) to the waveform\n",
        "2. Resampling the waveform with a given digitizer frequency\n",
        "3. Quantizing the waveform values with given digitizer levels\n"
      ],
      "id": "aaebf651"
    },
    {
      "cell_type": "code",
      "metadata": {},
      "source": [
        "#| label: fig-digiwf-example\n",
        "#| fig-cap: 'Digitized Waveform for three pulses at times 0ns, 5ns and 10ns with charges 1PE, 5PE and 1PE'\n",
        "\n",
        "digi_wg = digitize_waveform(\n",
        "    waveform,\n",
        "    pmt_config.sampling_freq,\n",
        "    pmt_config.adc_freq,\n",
        "    pmt_config.lp_filter,\n",
        "    yrange=pmt_config.adc_dyn_range,\n",
        "    yres_bits=pmt_config.adc_bits)\n",
        "\n",
        "fig, ax = lines(\n",
        "    waveform.timestamps, waveform.values,\n",
        "    axis=(; xlabel=\"Time (ns)\", ylabel=\"Amplitude (mV)\"), label=\"Raw Waveform\")\n",
        "lines!(ax, digi_wg.timestamps, digi_wg.values, label=\"Digitized Waveform\")\n",
        "fig"
      ],
      "id": "fig-digiwf-example",
      "execution_count": null,
      "outputs": []
    },
    {
      "cell_type": "markdown",
      "metadata": {},
      "source": [
        "### Dynamic range\n",
        "We can test the effect of the dynamic range on small pulses. @fig-digiwf-small-pulse shows the digitized waveform for pulses with charges [0.1, 0.2, 0.3, 0.4] PE, with 12bits in a range of (0, 1)V. @fig-digiwf-small-pulse-threev shows the waveform with 12bits in a range of (0, 3)V\n"
      ],
      "id": "bf82e6dc"
    },
    {
      "cell_type": "code",
      "metadata": {},
      "source": [
        "#| label: fig-digiwf-small-pulse\n",
        "#| fig-cap: 'Digitized Waveform for three pulses at times 0ns, 5ns and 10ns with charges 1PE, 5PE and 1PE'\n",
        "\n",
        "pulse_series = PulseSeries([0, 20, 40, 60], [0.1, 0.2, 0.3, 0.4], pmt_config.pulse_model)\n",
        "waveform = make_waveform(pulse_series, pmt_config.sampling_freq, pmt_config.noise_amp)\n",
        "\n",
        "fig = Figure()\n",
        "ax = Axis(fig[1, 1], xlabel=\"Time (ns)\", ylabel=\"Amplitude (mV)\")\n",
        "\n",
        "eval_grid = -50:0.05:150\n",
        "p1 = nothing\n",
        "for (t, q) in pulse_series\n",
        "    p1 = lines!(ax, eval_grid, x -> q * evaluate_pulse_template(pmt_config.pulse_model, t, x), color=:tomato)\n",
        "end\n",
        "\n",
        "\n",
        "digi_wg = digitize_waveform(\n",
        "    waveform,\n",
        "    pmt_config.sampling_freq,\n",
        "    pmt_config.adc_freq,\n",
        "    pmt_config.lp_filter,\n",
        "    yrange=pmt_config.adc_dyn_range,\n",
        "    yres_bits=pmt_config.adc_bits)\n",
        "\n",
        "p2 = lines!(ax, digi_wg.timestamps, digi_wg.values, label=\"Digitized Waveform\", linewidth=2)\n",
        "bins = adc_bins(pmt_config.adc_dyn_range, pmt_config.adc_bits)\n",
        "\n",
        "p3 = hlines!(ax, bins[1:15], color=(:black, 0.5), linestyle=:dot, label=\"ADC Levels\")\n",
        "\n",
        "Legend(fig[1, 2], [p1, p2, p3], [\"Pulses\", \"Digitized Waveform\", \"ADC Levels\"])\n",
        "fig"
      ],
      "id": "fig-digiwf-small-pulse",
      "execution_count": null,
      "outputs": []
    },
    {
      "cell_type": "code",
      "metadata": {},
      "source": [
        "#| label: fig-digiwf-small-pulse-threev\n",
        "#| fig-cap: 'Digitized Waveform for three pulses at times 0ns, 5ns and 10ns with charges 1PE, 5PE and 1PE'\n",
        "\n",
        "fig = Figure()\n",
        "ax = Axis(fig[1, 1], xlabel=\"Time (ns)\", ylabel=\"Amplitude (mV)\")\n",
        "\n",
        "eval_grid = -50:0.05:150\n",
        "p1 = nothing\n",
        "for (t, q) in pulse_series\n",
        "    p1 = lines!(ax, eval_grid, x -> q * evaluate_pulse_template(pmt_config.pulse_model, t, x), color=:tomato)\n",
        "end\n",
        "\n",
        "digi_wg = digitize_waveform(\n",
        "    waveform,\n",
        "    pmt_config.sampling_freq,\n",
        "    pmt_config.adc_freq,\n",
        "    pmt_config.lp_filter,\n",
        "    yrange=(0.0, 3000.0),\n",
        "    yres_bits=pmt_config.adc_bits)\n",
        "\n",
        "p2 = lines!(ax, digi_wg.timestamps, digi_wg.values, label=\"Digitized Waveform\", linewidth=2)\n",
        "bins = adc_bins((0.0, 3000.0), pmt_config.adc_bits)\n",
        "\n",
        "p3 = hlines!(ax, bins[1:5], color=(:black, 0.5), linestyle=:dot, label=\"ADC Levels\")\n",
        "\n",
        "Legend(fig[1, 2], [p1, p2, p3], [\"Pulses\", \"Digitized Waveform\", \"ADC Levels\"])\n",
        "fig"
      ],
      "id": "fig-digiwf-small-pulse-threev",
      "execution_count": null,
      "outputs": []
    },
    {
      "cell_type": "markdown",
      "metadata": {},
      "source": [
        "## Unfolding\n",
        "Pulses are unfolded from digitized waveforms using non-negative least squares (NNLS). Pulse templates (PMT pulses after they have passed through the digitization chain) are placed on a fine time grid, with resolution smaller than the expected time resolution. The resulting summed signal is fitted to the digitized waveform, yielding a `charge` (scaling factor) for each pulse template which best matches the waveform. Pulses with small charges ($<0.1$ PE) are cut out. @fig-unfolding shows an example of such an unfolding.\n"
      ],
      "id": "70b31e70"
    },
    {
      "cell_type": "code",
      "metadata": {},
      "source": [
        "#| fig-cap: Pulse unfolding for a 1PE pulse.\n",
        "#| label: fig-unfolding\n",
        "\n",
        "ps = PulseSeries([5.0], [1.0], pmt_config.pulse_model)\n",
        "digi_wf = digitize_waveform(ps, pmt_config.sampling_freq, pmt_config.adc_freq, pmt_config.noise_amp, pmt_config.lp_filter, time_range=[-10, 50], yrange=(0.0, 1000.0),)\n",
        "unfolded = unfold_waveform(digi_wf, pmt_config.pulse_model_filt, pmt_config.unf_pulse_res, 0.3, :nnls)\n",
        "\n",
        "reco = PulseSeries(unfolded.times, unfolded.charges, pmt_config.pulse_model)\n",
        "\n",
        "ts = -20:0.1:50\n",
        "fig, ax = lines(ts, evaluate_pulse_series(ts, ps), label=\"Original Pulse\",\n",
        "    axis=(; xlabel=\"Time (ns)\", ylabel=\"Amplitude (mV)\"))\n",
        "lines!(ax, digi_wf.timestamps, digi_wf.values, label=\"Digitized Pulse\")\n",
        "lines!(ax, ts, evaluate_pulse_series(ts, reco), label=\"Reconstructed Pulse\")\n",
        "\n",
        "Legend(fig[1, 2], ax)\n",
        "\n",
        "fig"
      ],
      "id": "fig-unfolding",
      "execution_count": null,
      "outputs": []
    },
    {
      "cell_type": "code",
      "metadata": {},
      "source": [
        "#| output: false\n",
        "pulse_charges = [0.1, 0.2, 0.3, 0.5, 1, 5, 10, 50, 100]\n",
        "dyn_ranges_end = (100.0, 1000.0, 3000.0) # mV\n",
        "data_unf_res = []\n",
        "\n",
        "for (dr_end, c) in product(dyn_ranges_end, pulse_charges)\n",
        "    pulse_times = rand(Uniform(0, 10), 500)\n",
        "    for t in pulse_times\n",
        "        ps = PulseSeries([t], [c], pmt_config.pulse_model)\n",
        "        digi_wf = digitize_waveform(ps, pmt_config.sampling_freq, pmt_config.adc_freq, pmt_config.noise_amp, pmt_config.lp_filter, time_range=[-10, 50], yrange=(0.0, dr_end),)\n",
        "        unfolded = unfold_waveform(digi_wf, pmt_config.pulse_model_filt, pmt_config.unf_pulse_res, 0.1, :nnls)\n",
        "        if length(unfolded) > 0\n",
        "            amax = sortperm(unfolded.charges)[end]\n",
        "\n",
        "            push!(data_unf_res, (dr_end=dr_end, charge=c, time=t, reco_time=unfolded.times[amax], reco_charge=sum(unfolded.charges)))\n",
        "        end\n",
        "    end\n",
        "end\n",
        "\n",
        "data_unf_res_low_noise = []\n",
        "\n",
        "for (dr_end, c) in product(dyn_ranges_end, pulse_charges)\n",
        "    pulse_times = rand(Uniform(0, 10), 100)\n",
        "    for t in pulse_times\n",
        "        ps = PulseSeries([t], [c], pmt_config_high_sampl.pulse_model)\n",
        "        digi_wf = digitize_waveform(ps, pmt_config_high_sampl.sampling_freq, pmt_config_high_sampl.adc_freq, pmt_config_high_sampl.noise_amp, pmt_config_high_sampl.lp_filter, time_range=[-10, 50], yrange=(0.0, dr_end),)\n",
        "        unfolded = unfold_waveform(digi_wf, pmt_config_high_sampl.pulse_model_filt, pmt_config_high_sampl.unf_pulse_res, 0.1, :nnls)\n",
        "        if length(unfolded) > 0\n",
        "            amax = sortperm(unfolded.charges)[end]\n",
        "\n",
        "            push!(data_unf_res_low_noise, (dr_end=dr_end, charge=c, time=t, reco_time=unfolded.times[amax], reco_charge=sum(unfolded.charges)))\n",
        "        end\n",
        "    end\n",
        "end\n",
        "\n",
        "data_unf_res_low_noise = DataFrame(data_unf_res_low_noise)\n",
        "data_unf_res_low_noise[:, :dt] = data_unf_res_low_noise[:, :reco_time] - data_unf_res_low_noise[:, :time]\n",
        "\n",
        "time_res_low_noise = combine(groupby(data_unf_res_low_noise, [:charge, :dr_end]), :dt => mean, :dt => std, :dt => iqr)\n",
        "\n",
        "data_unf_res = DataFrame(data_unf_res)\n",
        "data_unf_res[:, :dt] = data_unf_res[:, :reco_time] - data_unf_res[:, :time]\n",
        "\n",
        "time_res = combine(groupby(data_unf_res, [:charge, :dr_end]), :dt => mean, :dt => std, :dt => iqr)"
      ],
      "id": "45ea4c53",
      "execution_count": null,
      "outputs": []
    },
    {
      "cell_type": "markdown",
      "metadata": {},
      "source": [
        "## Timing Study\n",
        "To test the impact of the digitization chain on the timing resolution, we can conduct a study with pulses for different charges and different settings of the dynamic range and the noise rate. @fig-time-res summarizes the results. @fig-dt-dist shows the time difference distribution for one simulation set.\n",
        "Note, that this simulation does not include the SPE distribution."
      ],
      "id": "eee46463"
    },
    {
      "cell_type": "code",
      "metadata": {},
      "source": [
        "#| label: fig-time-res\n",
        "#| fig-cap: Time resolution of unfolded pulses.\n",
        "\n",
        "colors = Makie.wong_colors()\n",
        "\n",
        "fig = Figure()\n",
        "ax = Axis(fig[1, 1], xscale=log10, xlabel=\"Pulse Charge (PE)\", ylabel=\"Time Resolution [IQR] (ns)\")\n",
        "\n",
        "\n",
        "\n",
        "for (i, (grpkey, grp)) in enumerate(pairs(groupby(time_res, :dr_end)))\n",
        "    lines!(ax, grp[:, :charge], grp[:, :dt_iqr], label=string(grpkey[1]), color=colors[i])\n",
        "end\n",
        "\n",
        "for (i, (grpkey, grp)) in enumerate(pairs(groupby(time_res_low_noise, :dr_end)))\n",
        "    lines!(ax, grp[:, :charge], grp[:, :dt_iqr], linestyle=:dash, color=colors[i])\n",
        "end\n",
        "\n",
        "\n",
        "group_color = [PolyElement(color=color, strokecolor=:transparent)\n",
        "               for color in colors[1:3]]\n",
        "\n",
        "group_linestyles = [LineElement(color=:black, linestyle=:solid),\n",
        "    LineElement(color=:black, linestyle=:dash)]\n",
        "\n",
        "ylims!(ax, 0, 5)\n",
        "\n",
        "dyn_range_labels = getproperty.(keys(groupby(time_res, :dr_end)), :dr_end)\n",
        "\n",
        "\n",
        "Legend(\n",
        "    fig[1, 2],\n",
        "    [group_color, group_linestyles],\n",
        "    [string.(dyn_range_labels), [format(\"{:.2f}\", pmt_config.adc_freq), format(\"{:.2f}\", pmt_config_high_sampl.adc_freq)]],\n",
        "    [\"Dynamic range (mV)\", \"Sampling Rate (MHz)\"])\n",
        "fig"
      ],
      "id": "fig-time-res",
      "execution_count": null,
      "outputs": []
    },
    {
      "cell_type": "code",
      "metadata": {},
      "source": [
        "#| fig-cap: Distribution of the time difference between pulse time and unfolded pulse time for 1PE pulses and 3mV dynamic range\n",
        "#| label: fig-dt-dist\n",
        "#| echo: false\n",
        "sel = data_unf_res[data_unf_res[:, :dr_end].==3000.0.&&data_unf_res[:, :charge].==1, :]\n",
        "hist(sel[:, :dt], axis=(; xlabel=\"Time difference (ns)\", ylabel=\"Counts\"))"
      ],
      "id": "fig-dt-dist",
      "execution_count": null,
      "outputs": []
    }
  ],
  "metadata": {
    "kernelspec": {
      "name": "julia-1.9",
      "language": "julia",
      "display_name": "Julia 1.9.0-rc1"
    }
  },
  "nbformat": 4,
  "nbformat_minor": 5
}